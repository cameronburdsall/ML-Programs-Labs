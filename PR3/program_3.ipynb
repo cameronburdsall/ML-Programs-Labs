{
  "nbformat": 4,
  "nbformat_minor": 0,
  "metadata": {
    "colab": {
      "name": "program_3.ipynb",
      "provenance": []
    },
    "kernelspec": {
      "name": "python3",
      "display_name": "Python 3"
    }
  },
  "cells": [
    {
      "cell_type": "code",
      "metadata": {
        "id": "G4An0FIiwCuJ"
      },
      "source": [
        "from sklearn.cluster import KMeans\n",
        "from sklearn.cluster import MiniBatchKMeans\n",
        "from scipy.spatial.distance import cosine\n",
        "from scipy.spatial.distance import euclidean\n",
        "from sklearn.decomposition import TruncatedSVD\n",
        "from sklearn.metrics import silhouette_score\n",
        "import pandas as pd\n",
        "import numpy as np\n",
        "import scipy as sp\n",
        "from scipy.io import mmread\n",
        "import networkx as nx\n",
        "from collections import defaultdict\n",
        "from matplotlib import pyplot as plt"
      ],
      "execution_count": null,
      "outputs": []
    },
    {
      "cell_type": "markdown",
      "metadata": {
        "id": "euBYI6N6dnyO"
      },
      "source": [
        ""
      ]
    },
    {
      "cell_type": "code",
      "metadata": {
        "id": "VzQuAQ6oCJvI"
      },
      "source": [
        "def csr_info(mat, name=\"\", non_empy=False):\n",
        "    r\"\"\" Print out info about this CSR matrix. If non_empy, \n",
        "    report number of non-empty rows and cols as well\n",
        "    \"\"\"\n",
        "    if non_empy:\n",
        "        print(\"%s [nrows %d (%d non-empty), ncols %d (%d non-empty), nnz %d]\" % (\n",
        "                name, mat.shape[0], \n",
        "                sum(1 if mat.indptr[i+1] > mat.indptr[i] else 0 \n",
        "                for i in range(mat.shape[0])), \n",
        "                mat.shape[1], len(np.unique(mat.indices)), \n",
        "                len(mat.data)))\n",
        "    else:\n",
        "        print( \"%s [nrows %d, ncols %d, nnz %d]\" % (name, \n",
        "                mat.shape[0], mat.shape[1], len(mat.data)) )\n",
        "\n",
        "def csr_l2normalize(mat, copy=False, **kargs):\n",
        "    r\"\"\" Normalize the rows of a CSR matrix by their L-2 norm. \n",
        "    If copy is True, returns a copy of the normalized matrix.\n",
        "    \"\"\"\n",
        "    if copy is True:\n",
        "        mat = mat.copy()\n",
        "    nrows = mat.shape[0]\n",
        "    nnz = mat.nnz\n",
        "    ind, val, ptr = mat.indices, mat.data, mat.indptr\n",
        "    # normalize\n",
        "    for i in range(nrows):\n",
        "        rsum = 0.0    \n",
        "        for j in range(ptr[i], ptr[i+1]):\n",
        "            rsum += val[j]**2\n",
        "        if rsum == 0.0:\n",
        "            continue  # do not normalize empty rows\n",
        "        rsum = 1.0/np.sqrt(rsum)\n",
        "        for j in range(ptr[i], ptr[i+1]):\n",
        "            val[j] *= rsum\n",
        "            \n",
        "    if copy is True:\n",
        "        return mat\n",
        "\n",
        "def csr_idf(matrix, copy=False, **kargs):\n",
        "    r\"\"\" Scale a CSR matrix by idf. \n",
        "    Returns scaling factors as dict. If copy is True, \n",
        "    returns scaled matrix and scaling factors.\n",
        "    \"\"\"\n",
        "    if copy is True:\n",
        "        matrix = matrix.copy()\n",
        "    nrows = matrix.shape[0]\n",
        "    nnz = matrix.nnz\n",
        "    ind, val, ptr = matrix.indices, matrix.data, matrix.indptr\n",
        "    # document frequency\n",
        "    df = defaultdict(int)\n",
        "    for i in ind:\n",
        "        df[i] += 1\n",
        "    # inverse document frequency\n",
        "    for k,v in df.items():\n",
        "        df[k] = np.log(nrows / float(v))  ## df turns to idf - reusing memory\n",
        "    # scale by idf\n",
        "    for i in range(0, nnz):\n",
        "        val[i] *= df[ind[i]]\n",
        "        \n",
        "    return df if copy is False else matrix"
      ],
      "execution_count": null,
      "outputs": []
    },
    {
      "cell_type": "code",
      "metadata": {
        "id": "hAzqOKNi3b76"
      },
      "source": [
        "def runKMeans(mat, n_clusters, method = 'mini-batch'):\n",
        "  \"\"\"\n",
        "  runs KMeans or Mini-Batch KMeans on a given matrix for a given number of clusters\n",
        "  returns the predictions, the centroids of the clusters, and the model itself\n",
        "  method - default is mini-batch, can also do full KMeans by entering 'full'\n",
        "  \"\"\"\n",
        "  km = None\n",
        "  if method == 'mini-batch':\n",
        "    km = MiniBatchKMeans(n_clusters=n_clusters, random_state=0)\n",
        "  elif method == 'full':\n",
        "    km = KMeans(n_clusters=n_clusters, random_state=0)\n",
        "  else:\n",
        "    print(\"INVALID METHOD\")\n",
        "    exit()\n",
        "  km.fit(mat)\n",
        "  preds = km.predict(mat)\n",
        "  centroids = km.cluster_centers_\n",
        "  return preds, centroids, km"
      ],
      "execution_count": null,
      "outputs": []
    },
    {
      "cell_type": "code",
      "metadata": {
        "id": "y_8voX1Qc18N"
      },
      "source": [
        "def findEpsNeighbors(p, centroids, eps, metric = 'euclidean'):\n",
        "  \"\"\"\n",
        "  finds which points(centroids) are epsilon neighbors to p\n",
        "  metric - can be euclidean (default) or cosine\n",
        "  \"\"\"\n",
        "  point = centroids[p]\n",
        "  neighbors = []\n",
        "  for i in range (len(centroids)):\n",
        "    if i == p:\n",
        "      continue\n",
        "    else:\n",
        "      distance = None\n",
        "      if (metric == 'euclidean'):\n",
        "        distance = euclidean(point, centroids[i])\n",
        "      elif (metric == 'cosine'):\n",
        "        distance = cosine(point, centroids[i])\n",
        "      else:\n",
        "        print(\"INVALID METRIC\")\n",
        "        exit()\n",
        "      if distance <= eps:\n",
        "        neighbors.append(i)\n",
        "  return neighbors"
      ],
      "execution_count": null,
      "outputs": []
    },
    {
      "cell_type": "code",
      "metadata": {
        "id": "-X87KxmZere4"
      },
      "source": [
        "def assignBorderPoints(border_points, centroids, centers, clusters, metric = 'euclidean'):\n",
        "  \"\"\"\n",
        "  given a set of border_points, assign them to the closest centroid\n",
        "  return the modified clusters with border points added to them\n",
        "  \"\"\"\n",
        "  for bp in border_points:\n",
        "    distances = []\n",
        "    if metric == 'euclidean':\n",
        "        for c in centers:\n",
        "          distances.append(euclidean(centroids[bp], c))\n",
        "    elif metric == 'cosine':\n",
        "        for c in centers:\n",
        "          distances.append(cosine(centroids[bp], c))\n",
        "    else:\n",
        "      print(\"INVALID METRIC\")\n",
        "      exit()\n",
        "    index = distances.index(min(distances))\n",
        "    #print(index)\n",
        "    clusters[index].add(bp)\n",
        "  return clusters"
      ],
      "execution_count": null,
      "outputs": []
    },
    {
      "cell_type": "code",
      "metadata": {
        "id": "lz0mLJI17kkO"
      },
      "source": [
        "def findConnectedCores(core_points, eps, metric = 'euclidean'):\n",
        "  \"\"\"\n",
        "  builds a graph of core points and connects the verticies that are within eps of eachother\n",
        "  takes the list of all the connected components, and returns them as clusters\n",
        "  \"\"\"\n",
        "  G = nx.Graph()\n",
        "  G.add_nodes_from(core_points)\n",
        "  for i in range(len(core_points)):\n",
        "    for j in range(len(core_points)):\n",
        "      distance = None\n",
        "      if (metric == 'euclidean'):\n",
        "        distance = euclidean(centroids[core_points[i]], centroids[core_points[j]])\n",
        "      elif (metric == 'cosine'):\n",
        "        distance = cosine(centroids[core_points[i]], centroids[core_points[j]])\n",
        "      else:\n",
        "        print(\"INVALID METRIC\")\n",
        "        exit()\n",
        "      if ((i != j) and distance <= eps):\n",
        "        G.add_edges_from([(core_points[i], core_points[j])])\n",
        "  clusters = list(nx.connected_components(G))\n",
        "  return clusters"
      ],
      "execution_count": null,
      "outputs": []
    },
    {
      "cell_type": "code",
      "metadata": {
        "id": "C-DDeqdywrXK"
      },
      "source": [
        "def assignFinalClusters(clusters, predictions):\n",
        "  \"\"\"\n",
        "  Will go through and assign final clusters based upon the clustered centroids\n",
        "  \"\"\"\n",
        "  new_predictions = []\n",
        "  for p in predictions:\n",
        "    for i in range(0, len(clusters)):\n",
        "      if p in clusters[i]:\n",
        "        new_predictions.append(i)\n",
        "        break\n",
        "      if i == len(clusters) -1:\n",
        "        print(p)\n",
        "  return new_predictions"
      ],
      "execution_count": null,
      "outputs": []
    },
    {
      "cell_type": "code",
      "metadata": {
        "id": "-mw5TNiYt4N4"
      },
      "source": [
        "def DBScan(centroids, eps, minpts, metric = 'euclidean'):\n",
        "  \"\"\"\n",
        "  centroids - centroids generated by kmeans\n",
        "  eps - epsilon radius for neighbor evaluation\n",
        "  minpts - minimum number of points to be considered a core point\n",
        "  metric - distance metric, can be euclidean(default) or cosine\n",
        "  \"\"\"\n",
        "  core_points = []\n",
        "  border_points = []\n",
        "  noise_points = []\n",
        "  clusters = []\n",
        "  #saves what points we've vistited\n",
        "  visited = []\n",
        "  #list of neighbor lists\n",
        "  neighbors = []\n",
        "  #  ---  first, establish core, border, and noise points...\n",
        "  for i in range (len(centroids)):\n",
        "    eps_neighbors=[]\n",
        "    if i not in visited:\n",
        "      visited.append(i)\n",
        "      eps_neighbors = findEpsNeighbors(i, centroids, eps, metric=metric)\n",
        "      #if no neighbors, its a noise point\n",
        "      if (len(eps_neighbors) == 0):\n",
        "        noise_points.append(i)\n",
        "      #if more than minpts, then core point\n",
        "      elif (len(eps_neighbors) >= minpts):\n",
        "        core_points.append(i)\n",
        "        neighbors.append(eps_neighbors)\n",
        "      #if in between, its a border point\n",
        "      else:\n",
        "        border_points.append(i)\n",
        "  #verify we have classified all points\n",
        "  print('Core: ' + str(len(core_points)))\n",
        "  print('Border: ' + str(len(border_points)))\n",
        "  print('Noise: ' + str(len(noise_points)))\n",
        "  print('Total Classified: ' + str(len(core_points) + len((border_points)) + len(noise_points)))\n",
        "  # --- now, time to do some fancy graph stuff to find which core_points are connected\n",
        "  #populate graph with core_points being nodes\n",
        "  clusters = findConnectedCores(core_points, eps, metric=metric)\n",
        "  #now we have determiend the connected components in our generated graph!\n",
        "  print(len(clusters))\n",
        "  print(clusters)\n",
        "  #lets assign each cluster a centroid\n",
        "  centers = []\n",
        "  for c in clusters:\n",
        "    data_points = []\n",
        "    #find all data points in cluster\n",
        "    for index in list(c):\n",
        "      data_points.append(centroids[index])\n",
        "    #append the mean of all data points\n",
        "    centers.append(np.mean(data_points, axis=0))\n",
        "  print('Centroids generated, assigning border points')\n",
        "  #now we need to look through the border points and see which clusters they belong \n",
        "  #to based on which centroid they are closest to (using selected metric)\n",
        "  clusters = assignBorderPoints(border_points, centroids, centers, clusters, metric=metric)\n",
        "  clusters.append(set(noise_points))\n",
        "  print(len(clusters))\n",
        "  print(clusters)\n",
        "  print(border_points)\n",
        "  return clusters"
      ],
      "execution_count": null,
      "outputs": []
    },
    {
      "cell_type": "code",
      "metadata": {
        "id": "AjOcOlHMFmHK"
      },
      "source": [
        "def runTSVD(data, n_comp):\n",
        "  tsvd = TruncatedSVD(n_components=n_comp)\n",
        "  return tsvd.fit_transform(data)"
      ],
      "execution_count": null,
      "outputs": []
    },
    {
      "cell_type": "code",
      "metadata": {
        "id": "txp0HhnFw9Q5"
      },
      "source": [
        "with open('train.dat', 'r') as f:\n",
        "  lines = f.readlines()\n",
        "\n",
        "data = [l.split() for l in lines]\n",
        "dicts = []\n",
        "cols = set()\n",
        "for i in range(len(data)):\n",
        "  dic = {}\n",
        "  for j in range(0, len(data[i]), 2):\n",
        "    dic[int(data[i][j])] = int(data[i][j+1]) \n",
        "    cols.add(int(data[i][j]))\n",
        "  dicts.append(dic)\n",
        "  \n",
        "M = len(dicts)\n",
        "N = len(cols)\n",
        "cols = list(cols)"
      ],
      "execution_count": null,
      "outputs": []
    },
    {
      "cell_type": "code",
      "metadata": {
        "colab": {
          "base_uri": "https://localhost:8080/"
        },
        "id": "r3fgoLMA2w1k",
        "outputId": "1dd908fe-0ed2-4f03-de1e-e89436cc74e6"
      },
      "source": [
        "print(len(lines))"
      ],
      "execution_count": null,
      "outputs": [
        {
          "output_type": "stream",
          "text": [
            "8580\n"
          ],
          "name": "stdout"
        }
      ]
    },
    {
      "cell_type": "code",
      "metadata": {
        "id": "5jf8XNMKTFpS"
      },
      "source": [
        "values = []\n",
        "columns = []\n",
        "rows = []\n",
        "for i in range (len(dicts)):\n",
        "  d = dicts[i]\n",
        "  for k in d.keys():\n",
        "    columns.append(k)\n",
        "    values.append(d[k])\n",
        "    rows.append(i)"
      ],
      "execution_count": null,
      "outputs": []
    },
    {
      "cell_type": "code",
      "metadata": {
        "id": "XVE3oyKh1fWx"
      },
      "source": [
        "#mat = sp.sparse.csr_matrix((values, (rows, columns)), dtype=np.float64)\n",
        "#csr_idf(mat)\n",
        "\n",
        "norm_mat = sp.sparse.csr_matrix((values, (rows, columns)), dtype=np.float64)\n",
        "csr_idf(norm_mat)\n",
        "csr_l2normalize(norm_mat)"
      ],
      "execution_count": null,
      "outputs": []
    },
    {
      "cell_type": "code",
      "metadata": {
        "id": "2L4rCC9BGqqD"
      },
      "source": [
        "#running truncated single value decomposition to cut number of features roughly in half\n",
        "#tsvd_norm_mat = runTSVD(norm_mat, 1500)"
      ],
      "execution_count": null,
      "outputs": []
    },
    {
      "cell_type": "code",
      "metadata": {
        "id": "SQq-SDDl4SsJ"
      },
      "source": [
        "preds, centroids, km = runKMeans(norm_mat, 300, method='full')\n",
        "#preds, centroids, km = runKMeans(norm_mat, 100)"
      ],
      "execution_count": null,
      "outputs": []
    },
    {
      "cell_type": "code",
      "metadata": {
        "colab": {
          "base_uri": "https://localhost:8080/"
        },
        "id": "ydP3LrI0R6Ry",
        "outputId": "6c262a05-3ce8-415e-df23-10d6c342ffb9"
      },
      "source": [
        "\n",
        "#clus_euc = DBScan(centroids, 0.45, 2, metric = 'euclidean')\n",
        "clus_cos = DBScan(centroids, 0.61, 5, metric = 'cosine')"
      ],
      "execution_count": null,
      "outputs": [
        {
          "output_type": "stream",
          "text": [
            "Core: 28\n",
            "Border: 53\n",
            "Noise: 19\n",
            "Total Classified: 100\n",
            "3\n",
            "[{2, 3, 7, 10, 17, 31, 33, 36, 46, 50, 59, 60, 63, 64, 66, 67, 70, 91, 94, 95, 97, 98, 99}, {18, 44, 5, 52}, {6}]\n",
            "Centroids generated, assigning border points\n",
            "4\n",
            "[{1, 2, 3, 4, 7, 9, 10, 11, 14, 15, 16, 17, 20, 22, 24, 26, 27, 29, 30, 31, 32, 33, 36, 38, 39, 42, 46, 47, 48, 49, 50, 51, 53, 55, 59, 60, 61, 63, 64, 66, 67, 68, 69, 70, 73, 75, 76, 79, 82, 83, 84, 85, 87, 89, 90, 91, 92, 93, 94, 95, 96, 97, 98, 99}, {65, 35, 5, 8, 44, 18, 52, 56, 88}, {0, 37, 6, 72, 12, 78, 80, 57}, {34, 71, 40, 41, 74, 43, 13, 45, 77, 81, 19, 21, 54, 23, 86, 25, 58, 28, 62}]\n",
            "[0, 1, 4, 8, 9, 11, 12, 14, 15, 16, 20, 22, 24, 26, 27, 29, 30, 32, 35, 37, 38, 39, 42, 47, 48, 49, 51, 53, 55, 56, 57, 61, 65, 68, 69, 72, 73, 75, 76, 78, 79, 80, 82, 83, 84, 85, 87, 88, 89, 90, 92, 93, 96]\n"
          ],
          "name": "stdout"
        }
      ]
    },
    {
      "cell_type": "code",
      "metadata": {
        "colab": {
          "base_uri": "https://localhost:8080/"
        },
        "id": "Aw6sMl2xTZ9j",
        "outputId": "78b2e6a0-d2a7-424d-8d12-ae6b7cfb9059"
      },
      "source": [
        "silhouette_score(norm_mat, assignFinalClusters(clus_cos, preds))"
      ],
      "execution_count": null,
      "outputs": [
        {
          "output_type": "execute_result",
          "data": {
            "text/plain": [
              "0.009181035735019504"
            ]
          },
          "metadata": {
            "tags": []
          },
          "execution_count": 27
        }
      ]
    },
    {
      "cell_type": "code",
      "metadata": {
        "colab": {
          "base_uri": "https://localhost:8080/"
        },
        "id": "oPYHefS8O-nP",
        "outputId": "ee2639d8-69fc-4bce-cdcc-b4d66e57b84f"
      },
      "source": [
        "scores = []\n",
        "mp = []\n",
        "for i in range (3, 23, 2):\n",
        "  res = DBScan(centroids, 0.65, i, metric = 'cosine')\n",
        "  p = assignFinalClusters(res, preds)\n",
        "  scores.append(silhouette_score(norm_mat, p))\n",
        "  mp.append(i)\n",
        "scores"
      ],
      "execution_count": null,
      "outputs": [
        {
          "output_type": "stream",
          "text": [
            "Core: 185\n",
            "Border: 62\n",
            "Noise: 53\n",
            "Total Classified: 300\n",
            "5\n",
            "[{0, 1, 2, 4, 5, 7, 8, 9, 10, 12, 13, 15, 17, 18, 19, 21, 22, 25, 27, 28, 29, 31, 33, 36, 37, 39, 40, 43, 45, 46, 47, 51, 52, 53, 54, 56, 57, 59, 61, 62, 69, 70, 71, 72, 74, 75, 76, 77, 80, 88, 90, 91, 94, 95, 98, 100, 104, 105, 106, 107, 108, 112, 117, 119, 120, 123, 124, 128, 131, 132, 133, 135, 139, 141, 146, 148, 149, 152, 163, 164, 167, 168, 170, 171, 173, 174, 175, 176, 177, 180, 181, 182, 185, 192, 193, 194, 197, 200, 201, 202, 206, 208, 210, 213, 216, 218, 223, 224, 229, 237, 240, 241, 244, 245, 246, 247, 249, 251, 252, 253, 256, 257, 258, 260, 262, 264, 265, 268, 271, 273, 275, 277, 278, 279, 282, 283, 286, 292, 294, 297, 298, 299}, {3, 142, 14, 144, 270, 281, 26, 287, 162, 34, 35, 44, 49, 179, 186, 187, 67, 203, 211, 228, 101, 235, 109}, {161, 290, 261, 11, 81, 85, 151, 280, 127}, {16}, {32, 263, 78, 207, 147, 150, 23, 118, 219, 190}]\n",
            "Centroids generated, assigning border points\n",
            "6\n",
            "[{0, 1, 2, 4, 5, 6, 7, 8, 9, 10, 12, 13, 15, 17, 18, 19, 21, 22, 25, 27, 28, 29, 30, 31, 33, 36, 37, 38, 39, 40, 41, 42, 43, 45, 46, 47, 51, 52, 53, 54, 55, 56, 57, 58, 59, 60, 61, 62, 63, 65, 66, 68, 69, 70, 71, 72, 74, 75, 76, 77, 79, 80, 83, 84, 86, 87, 88, 90, 91, 94, 95, 97, 98, 100, 102, 104, 105, 106, 107, 108, 110, 112, 114, 116, 117, 119, 120, 122, 123, 124, 125, 126, 128, 130, 131, 132, 133, 134, 135, 139, 141, 143, 145, 146, 148, 149, 152, 163, 164, 165, 166, 167, 168, 169, 170, 171, 173, 174, 175, 176, 177, 180, 181, 182, 183, 184, 185, 188, 191, 192, 193, 194, 197, 198, 200, 201, 202, 206, 208, 209, 210, 213, 216, 217, 218, 223, 224, 226, 229, 231, 233, 236, 237, 240, 241, 243, 244, 245, 246, 247, 248, 249, 250, 251, 252, 253, 256, 257, 258, 259, 260, 262, 264, 265, 266, 268, 269, 271, 273, 275, 276, 277, 278, 279, 282, 283, 284, 286, 288, 291, 292, 294, 297, 298, 299}, {3, 137, 142, 14, 144, 270, 281, 26, 287, 162, 34, 35, 44, 49, 179, 186, 187, 67, 203, 211, 228, 101, 235, 109}, {64, 161, 290, 261, 11, 172, 48, 81, 274, 85, 151, 280, 127}, {73, 140, 16, 20, 222}, {32, 263, 78, 207, 147, 150, 23, 118, 219, 190}, {129, 136, 138, 267, 272, 24, 153, 154, 155, 156, 157, 158, 159, 160, 285, 289, 293, 295, 296, 50, 178, 189, 195, 196, 199, 204, 205, 82, 212, 214, 215, 89, 92, 93, 220, 221, 96, 225, 99, 227, 230, 103, 232, 234, 238, 111, 239, 113, 242, 115, 121, 254, 255}]\n",
            "[6, 20, 30, 38, 41, 42, 48, 55, 58, 60, 63, 64, 65, 66, 68, 73, 79, 83, 84, 86, 87, 97, 102, 110, 114, 116, 122, 125, 126, 130, 134, 137, 140, 143, 145, 165, 166, 169, 172, 183, 184, 188, 191, 198, 209, 217, 222, 226, 231, 233, 236, 243, 248, 250, 259, 266, 269, 274, 276, 284, 288, 291]\n",
            "Core: 140\n",
            "Border: 107\n",
            "Noise: 53\n",
            "Total Classified: 300\n",
            "4\n",
            "[{0, 1, 2, 4, 5, 7, 8, 9, 12, 13, 15, 18, 19, 21, 22, 29, 31, 33, 36, 37, 39, 40, 43, 45, 47, 51, 52, 53, 54, 56, 57, 59, 61, 62, 69, 70, 71, 72, 75, 77, 80, 88, 90, 91, 94, 98, 104, 107, 117, 123, 124, 128, 131, 132, 135, 139, 141, 146, 148, 163, 164, 170, 171, 173, 174, 175, 176, 177, 180, 181, 194, 197, 201, 202, 206, 210, 213, 216, 218, 237, 240, 241, 244, 245, 246, 247, 249, 251, 252, 253, 256, 257, 258, 260, 264, 265, 268, 271, 273, 275, 277, 279, 282, 283, 286, 297, 298}, {3, 142, 14, 144, 270, 281, 26, 287, 162, 34, 35, 44, 49, 187, 67, 203, 211, 228, 101, 235, 109}, {161, 11, 81, 151, 127}, {32, 78, 23, 118, 150, 219, 190}]\n",
            "Centroids generated, assigning border points\n",
            "5\n",
            "[{0, 1, 2, 4, 5, 6, 7, 8, 9, 10, 12, 13, 15, 16, 17, 18, 19, 20, 21, 22, 25, 27, 28, 29, 30, 31, 33, 36, 37, 38, 39, 40, 41, 42, 43, 45, 46, 47, 51, 52, 53, 54, 55, 56, 57, 58, 59, 60, 61, 62, 63, 65, 66, 68, 69, 70, 71, 72, 74, 75, 76, 77, 79, 80, 83, 84, 86, 87, 88, 90, 91, 94, 95, 97, 98, 100, 102, 104, 105, 106, 107, 108, 110, 112, 114, 116, 117, 119, 120, 122, 123, 124, 125, 126, 128, 130, 131, 132, 133, 134, 135, 139, 140, 141, 143, 145, 146, 148, 149, 152, 163, 164, 165, 166, 167, 168, 169, 170, 171, 173, 174, 175, 176, 177, 180, 181, 182, 183, 184, 185, 188, 191, 192, 193, 194, 197, 198, 200, 201, 202, 206, 208, 209, 210, 213, 216, 217, 218, 222, 223, 224, 226, 229, 231, 233, 236, 237, 240, 241, 243, 244, 245, 246, 247, 248, 249, 250, 251, 252, 253, 256, 257, 258, 259, 260, 262, 264, 265, 266, 268, 269, 271, 273, 275, 276, 277, 278, 279, 282, 283, 284, 286, 288, 291, 292, 294, 297, 298, 299}, {3, 137, 142, 14, 144, 270, 281, 26, 287, 162, 34, 35, 44, 49, 179, 186, 187, 67, 203, 211, 228, 101, 235, 109}, {64, 161, 290, 261, 73, 11, 172, 48, 81, 274, 85, 151, 280, 127}, {32, 263, 78, 207, 147, 23, 118, 150, 219, 190}, {129, 136, 138, 267, 272, 24, 153, 154, 155, 156, 157, 158, 159, 160, 285, 289, 293, 295, 296, 50, 178, 189, 195, 196, 199, 204, 205, 82, 212, 214, 215, 89, 92, 93, 220, 221, 96, 225, 99, 227, 230, 103, 232, 234, 238, 111, 239, 113, 242, 115, 121, 254, 255}]\n",
            "[6, 10, 16, 17, 20, 25, 27, 28, 30, 38, 41, 42, 46, 48, 55, 58, 60, 63, 64, 65, 66, 68, 73, 74, 76, 79, 83, 84, 85, 86, 87, 95, 97, 100, 102, 105, 106, 108, 110, 112, 114, 116, 119, 120, 122, 125, 126, 130, 133, 134, 137, 140, 143, 145, 147, 149, 152, 165, 166, 167, 168, 169, 172, 179, 182, 183, 184, 185, 186, 188, 191, 192, 193, 198, 200, 207, 208, 209, 217, 222, 223, 224, 226, 229, 231, 233, 236, 243, 248, 250, 259, 261, 262, 263, 266, 269, 274, 276, 278, 280, 284, 288, 290, 291, 292, 294, 299]\n",
            "Core: 108\n",
            "Border: 139\n",
            "Noise: 53\n",
            "Total Classified: 300\n",
            "5\n",
            "[{0, 256, 2, 131, 128, 5, 7, 8, 265, 9, 139, 268, 13, 264, 15, 12, 273, 146, 18, 148, 283, 286, 33, 163, 36, 164, 37, 39, 297, 170, 43, 171, 174, 47, 176, 177, 180, 181, 52, 56, 57, 59, 61, 62, 194, 69, 70, 71, 72, 201, 202, 75, 206, 213, 216, 88, 218, 98, 107, 241, 244, 245, 246, 247, 117, 249, 251, 253}, {1, 258, 260, 104, 45, 175, 240, 51, 21, 279, 90, 91, 124, 31}, {162, 34, 3, 228, 101, 35, 203, 235, 109, 142, 44, 144, 49, 270, 211, 281, 26, 187, 287}, {32, 219, 190, 23}, {151, 161, 127}]\n",
            "Centroids generated, assigning border points\n",
            "6\n",
            "[{0, 2, 4, 5, 6, 7, 8, 9, 10, 12, 13, 15, 16, 17, 18, 19, 20, 22, 25, 27, 28, 29, 30, 33, 36, 37, 38, 39, 40, 41, 42, 43, 46, 47, 52, 53, 54, 55, 56, 57, 58, 59, 60, 61, 62, 63, 65, 66, 68, 69, 70, 71, 72, 74, 75, 76, 79, 80, 83, 84, 86, 88, 95, 97, 98, 100, 102, 105, 107, 110, 112, 114, 116, 117, 120, 122, 123, 125, 126, 128, 131, 132, 133, 134, 135, 139, 140, 141, 143, 145, 146, 148, 149, 152, 163, 164, 165, 166, 167, 168, 169, 170, 171, 173, 174, 176, 177, 180, 181, 182, 183, 184, 185, 188, 191, 192, 193, 194, 197, 198, 200, 201, 202, 206, 208, 209, 210, 213, 216, 217, 218, 222, 223, 224, 226, 229, 231, 236, 237, 241, 243, 244, 245, 246, 247, 248, 249, 250, 251, 253, 256, 257, 259, 262, 264, 265, 266, 268, 269, 271, 273, 275, 276, 277, 278, 282, 283, 284, 286, 288, 291, 292, 294, 297, 298, 299}, {1, 258, 130, 260, 21, 279, 31, 45, 175, 51, 77, 87, 90, 91, 94, 104, 106, 108, 240, 124, 252}, {3, 137, 142, 270, 144, 14, 281, 26, 287, 162, 34, 35, 44, 49, 179, 186, 187, 67, 203, 211, 228, 101, 235, 109}, {32, 263, 78, 207, 147, 118, 23, 150, 219, 190}, {64, 161, 290, 261, 73, 233, 11, 172, 48, 81, 274, 119, 85, 151, 280, 127}, {129, 136, 138, 267, 272, 24, 153, 154, 155, 156, 157, 158, 159, 160, 285, 289, 293, 295, 296, 50, 178, 189, 195, 196, 199, 204, 205, 82, 212, 214, 215, 89, 92, 93, 220, 221, 96, 225, 99, 227, 230, 103, 232, 234, 238, 111, 239, 113, 242, 115, 121, 254, 255}]\n",
            "[4, 6, 10, 11, 14, 16, 17, 19, 20, 22, 25, 27, 28, 29, 30, 38, 40, 41, 42, 46, 48, 53, 54, 55, 58, 60, 63, 64, 65, 66, 67, 68, 73, 74, 76, 77, 78, 79, 80, 81, 83, 84, 85, 86, 87, 94, 95, 97, 100, 102, 105, 106, 108, 110, 112, 114, 116, 118, 119, 120, 122, 123, 125, 126, 130, 132, 133, 134, 135, 137, 140, 141, 143, 145, 147, 149, 150, 152, 165, 166, 167, 168, 169, 172, 173, 179, 182, 183, 184, 185, 186, 188, 191, 192, 193, 197, 198, 200, 207, 208, 209, 210, 217, 222, 223, 224, 226, 229, 231, 233, 236, 237, 243, 248, 250, 252, 257, 259, 261, 262, 263, 266, 269, 271, 274, 275, 276, 277, 278, 280, 282, 284, 288, 290, 291, 292, 294, 298, 299]\n",
            "Core: 75\n",
            "Border: 172\n",
            "Noise: 53\n",
            "Total Classified: 300\n",
            "5\n",
            "[{1, 45, 175, 240, 51, 21, 279, 91}, {128, 2, 131, 5, 7, 264, 8, 265, 139, 268, 13, 15, 273, 18, 146, 283, 286, 33, 163, 36, 39, 297, 170, 171, 43, 174, 47, 176, 180, 181, 52, 57, 59, 61, 194, 69, 70, 72, 75, 213, 218, 98, 107, 244, 245, 246, 249, 251, 253}, {162, 34, 3, 228, 101, 203, 235, 109, 142, 44, 144, 49, 211, 187, 287}, {219, 23}, {151}]\n",
            "Centroids generated, assigning border points\n",
            "6\n",
            "[{1, 130, 257, 258, 260, 140, 21, 279, 31, 299, 45, 175, 51, 65, 193, 197, 77, 87, 90, 91, 94, 104, 106, 108, 110, 240, 252, 248, 124}, {0, 2, 4, 5, 6, 7, 8, 9, 10, 12, 13, 15, 16, 17, 18, 19, 20, 22, 25, 27, 28, 29, 30, 33, 36, 37, 38, 39, 40, 41, 42, 43, 46, 47, 52, 53, 54, 55, 56, 57, 58, 59, 60, 61, 62, 63, 66, 68, 69, 70, 71, 72, 75, 76, 79, 80, 83, 84, 86, 88, 95, 98, 100, 102, 105, 107, 112, 114, 116, 117, 120, 122, 123, 125, 126, 128, 131, 132, 133, 134, 135, 139, 141, 143, 145, 146, 148, 149, 152, 163, 164, 165, 166, 167, 168, 169, 170, 171, 173, 174, 176, 177, 180, 181, 182, 183, 184, 185, 188, 191, 192, 194, 198, 201, 202, 206, 208, 209, 210, 213, 216, 217, 218, 222, 223, 224, 226, 229, 236, 237, 241, 243, 244, 245, 246, 247, 249, 250, 251, 253, 256, 259, 262, 264, 265, 266, 268, 269, 271, 273, 275, 276, 277, 278, 282, 283, 284, 286, 288, 291, 292, 294, 297, 298}, {3, 137, 142, 14, 144, 270, 281, 26, 287, 162, 34, 35, 44, 49, 179, 186, 187, 67, 203, 211, 228, 101, 235, 109}, {32, 263, 78, 207, 147, 118, 23, 150, 219, 190}, {64, 97, 161, 290, 261, 231, 200, 73, 74, 11, 172, 233, 48, 81, 274, 119, 85, 151, 280, 127}, {129, 136, 138, 267, 272, 24, 153, 154, 155, 156, 157, 158, 159, 160, 285, 289, 293, 295, 296, 50, 178, 189, 195, 196, 199, 204, 205, 82, 212, 214, 215, 89, 92, 93, 220, 221, 96, 225, 99, 227, 230, 103, 232, 234, 238, 111, 239, 113, 242, 115, 121, 254, 255}]\n",
            "[0, 4, 6, 9, 10, 11, 12, 14, 16, 17, 19, 20, 22, 25, 26, 27, 28, 29, 30, 31, 32, 35, 37, 38, 40, 41, 42, 46, 48, 53, 54, 55, 56, 58, 60, 62, 63, 64, 65, 66, 67, 68, 71, 73, 74, 76, 77, 78, 79, 80, 81, 83, 84, 85, 86, 87, 88, 90, 94, 95, 97, 100, 102, 104, 105, 106, 108, 110, 112, 114, 116, 117, 118, 119, 120, 122, 123, 124, 125, 126, 127, 130, 132, 133, 134, 135, 137, 140, 141, 143, 145, 147, 148, 149, 150, 152, 161, 164, 165, 166, 167, 168, 169, 172, 173, 177, 179, 182, 183, 184, 185, 186, 188, 190, 191, 192, 193, 197, 198, 200, 201, 202, 206, 207, 208, 209, 210, 216, 217, 222, 223, 224, 226, 229, 231, 233, 236, 237, 241, 243, 247, 248, 250, 252, 256, 257, 258, 259, 260, 261, 262, 263, 266, 269, 270, 271, 274, 275, 276, 277, 278, 280, 281, 282, 284, 288, 290, 291, 292, 294, 298, 299]\n",
            "Core: 49\n",
            "Border: 198\n",
            "Noise: 53\n",
            "Total Classified: 300\n",
            "3\n",
            "[{2, 131, 5, 7, 264, 265, 139, 268, 13, 15, 146, 33, 163, 36, 297, 170, 171, 43, 174, 47, 176, 180, 57, 59, 194, 69, 70, 75, 98, 107, 244, 245, 246, 249, 251, 253}, {162, 3, 228, 101, 203, 235, 109, 142, 144, 49, 211, 287}, {91}]\n",
            "Centroids generated, assigning border points\n",
            "4\n",
            "[{0, 2, 4, 5, 6, 7, 8, 9, 10, 11, 12, 13, 15, 16, 17, 18, 19, 20, 22, 23, 25, 27, 28, 29, 30, 32, 33, 36, 37, 38, 39, 40, 41, 42, 43, 46, 47, 48, 52, 53, 54, 55, 56, 57, 58, 59, 60, 61, 62, 63, 64, 65, 66, 68, 69, 70, 71, 72, 73, 74, 75, 76, 77, 78, 79, 80, 81, 83, 84, 85, 86, 88, 95, 97, 98, 100, 102, 105, 107, 108, 110, 112, 114, 116, 117, 118, 119, 120, 122, 123, 125, 126, 127, 128, 130, 131, 132, 133, 134, 135, 139, 140, 141, 143, 145, 146, 147, 148, 149, 150, 151, 152, 161, 163, 164, 165, 166, 167, 168, 169, 170, 171, 172, 173, 174, 176, 177, 180, 181, 182, 183, 184, 185, 188, 190, 191, 192, 193, 194, 197, 198, 200, 201, 202, 206, 207, 208, 209, 210, 213, 216, 217, 218, 219, 222, 223, 224, 226, 229, 231, 233, 236, 237, 241, 243, 244, 245, 246, 247, 249, 250, 251, 253, 256, 257, 259, 261, 262, 263, 264, 265, 266, 268, 269, 271, 273, 274, 275, 276, 277, 278, 280, 282, 283, 284, 286, 288, 290, 291, 292, 294, 297, 298, 299}, {3, 137, 142, 14, 144, 270, 281, 26, 287, 162, 34, 35, 44, 49, 179, 186, 187, 67, 203, 211, 228, 101, 235, 109, 248}, {1, 258, 260, 104, 106, 45, 279, 175, 240, 51, 252, 21, 87, 90, 91, 124, 94, 31}, {129, 136, 138, 267, 272, 24, 153, 154, 155, 156, 157, 158, 159, 160, 285, 289, 293, 295, 296, 50, 178, 189, 195, 196, 199, 204, 205, 82, 212, 214, 215, 89, 92, 93, 220, 221, 96, 225, 99, 227, 230, 103, 232, 234, 238, 111, 239, 113, 242, 115, 121, 254, 255}]\n",
            "[0, 1, 4, 6, 8, 9, 10, 11, 12, 14, 16, 17, 18, 19, 20, 21, 22, 23, 25, 26, 27, 28, 29, 30, 31, 32, 34, 35, 37, 38, 39, 40, 41, 42, 44, 45, 46, 48, 51, 52, 53, 54, 55, 56, 58, 60, 61, 62, 63, 64, 65, 66, 67, 68, 71, 72, 73, 74, 76, 77, 78, 79, 80, 81, 83, 84, 85, 86, 87, 88, 90, 94, 95, 97, 100, 102, 104, 105, 106, 108, 110, 112, 114, 116, 117, 118, 119, 120, 122, 123, 124, 125, 126, 127, 128, 130, 132, 133, 134, 135, 137, 140, 141, 143, 145, 147, 148, 149, 150, 151, 152, 161, 164, 165, 166, 167, 168, 169, 172, 173, 175, 177, 179, 181, 182, 183, 184, 185, 186, 187, 188, 190, 191, 192, 193, 197, 198, 200, 201, 202, 206, 207, 208, 209, 210, 213, 216, 217, 218, 219, 222, 223, 224, 226, 229, 231, 233, 236, 237, 240, 241, 243, 247, 248, 250, 252, 256, 257, 258, 259, 260, 261, 262, 263, 266, 269, 270, 271, 273, 274, 275, 276, 277, 278, 279, 280, 281, 282, 283, 284, 286, 288, 290, 291, 292, 294, 298, 299]\n",
            "Core: 33\n",
            "Border: 214\n",
            "Noise: 53\n",
            "Total Classified: 300\n",
            "2\n",
            "[{2, 131, 5, 7, 264, 265, 139, 268, 13, 15, 146, 33, 36, 297, 170, 171, 47, 176, 180, 194, 69, 70, 98, 107, 244, 245, 249, 253}, {3, 203, 235, 142, 211}]\n",
            "Centroids generated, assigning border points\n",
            "3\n",
            "[{0, 1, 2, 4, 5, 6, 7, 8, 9, 10, 11, 12, 13, 15, 16, 17, 18, 19, 20, 21, 22, 23, 25, 27, 28, 29, 30, 31, 32, 33, 36, 37, 38, 39, 40, 41, 42, 43, 45, 46, 47, 48, 51, 52, 53, 54, 55, 56, 57, 58, 59, 60, 61, 62, 63, 64, 65, 66, 68, 69, 70, 71, 72, 74, 75, 76, 77, 78, 79, 80, 81, 83, 84, 85, 86, 87, 88, 90, 91, 94, 95, 97, 98, 100, 102, 104, 105, 106, 107, 108, 110, 112, 114, 116, 117, 118, 119, 120, 122, 123, 124, 125, 126, 127, 128, 130, 131, 132, 133, 134, 135, 139, 140, 141, 143, 145, 146, 147, 148, 149, 150, 151, 152, 161, 163, 164, 165, 166, 167, 168, 169, 170, 171, 172, 173, 174, 175, 176, 177, 180, 181, 182, 183, 184, 185, 188, 190, 191, 192, 193, 194, 197, 198, 200, 201, 202, 206, 207, 208, 209, 210, 213, 216, 217, 218, 219, 222, 223, 224, 226, 229, 231, 233, 236, 237, 240, 241, 243, 244, 245, 246, 247, 249, 250, 251, 252, 253, 256, 257, 258, 259, 260, 261, 262, 263, 264, 265, 266, 268, 269, 271, 273, 274, 275, 276, 277, 278, 279, 280, 282, 283, 284, 286, 288, 290, 291, 292, 294, 297, 298, 299}, {3, 137, 142, 14, 144, 270, 281, 26, 287, 34, 35, 162, 44, 49, 179, 186, 187, 67, 73, 203, 211, 228, 101, 235, 109, 248}, {129, 136, 138, 267, 272, 24, 153, 154, 155, 156, 157, 158, 159, 160, 285, 289, 293, 295, 296, 50, 178, 189, 195, 196, 199, 204, 205, 82, 212, 214, 215, 89, 92, 93, 220, 221, 96, 225, 99, 227, 230, 103, 232, 234, 238, 111, 239, 113, 242, 115, 121, 254, 255}]\n",
            "[0, 1, 4, 6, 8, 9, 10, 11, 12, 14, 16, 17, 18, 19, 20, 21, 22, 23, 25, 26, 27, 28, 29, 30, 31, 32, 34, 35, 37, 38, 39, 40, 41, 42, 43, 44, 45, 46, 48, 49, 51, 52, 53, 54, 55, 56, 57, 58, 59, 60, 61, 62, 63, 64, 65, 66, 67, 68, 71, 72, 73, 74, 75, 76, 77, 78, 79, 80, 81, 83, 84, 85, 86, 87, 88, 90, 91, 94, 95, 97, 100, 101, 102, 104, 105, 106, 108, 109, 110, 112, 114, 116, 117, 118, 119, 120, 122, 123, 124, 125, 126, 127, 128, 130, 132, 133, 134, 135, 137, 140, 141, 143, 144, 145, 147, 148, 149, 150, 151, 152, 161, 162, 163, 164, 165, 166, 167, 168, 169, 172, 173, 174, 175, 177, 179, 181, 182, 183, 184, 185, 186, 187, 188, 190, 191, 192, 193, 197, 198, 200, 201, 202, 206, 207, 208, 209, 210, 213, 216, 217, 218, 219, 222, 223, 224, 226, 228, 229, 231, 233, 236, 237, 240, 241, 243, 246, 247, 248, 250, 251, 252, 256, 257, 258, 259, 260, 261, 262, 263, 266, 269, 270, 271, 273, 274, 275, 276, 277, 278, 279, 280, 281, 282, 283, 284, 286, 287, 288, 290, 291, 292, 294, 298, 299]\n",
            "Core: 21\n",
            "Border: 226\n",
            "Noise: 53\n",
            "Total Classified: 300\n",
            "2\n",
            "[{33, 194, 2, 5, 70, 69, 7, 297, 170, 107, 268, 13, 171, 15, 176, 146, 244, 245, 180, 253}, {142}]\n",
            "Centroids generated, assigning border points\n",
            "3\n",
            "[{0, 1, 2, 4, 5, 6, 7, 8, 9, 10, 11, 12, 13, 15, 16, 17, 18, 19, 20, 21, 22, 23, 25, 27, 28, 29, 30, 31, 32, 33, 36, 37, 38, 39, 40, 41, 42, 43, 45, 46, 47, 48, 51, 52, 53, 54, 55, 56, 57, 58, 59, 60, 61, 62, 63, 64, 65, 66, 68, 69, 70, 71, 72, 73, 74, 75, 76, 77, 78, 79, 80, 81, 83, 84, 85, 86, 87, 88, 90, 91, 94, 95, 97, 98, 100, 102, 104, 105, 106, 107, 108, 110, 112, 114, 116, 117, 118, 119, 120, 122, 123, 124, 125, 126, 127, 128, 130, 131, 132, 133, 134, 135, 139, 140, 141, 143, 145, 146, 147, 148, 149, 150, 151, 152, 161, 163, 164, 165, 166, 167, 168, 169, 170, 171, 172, 173, 174, 175, 176, 177, 180, 181, 182, 183, 184, 185, 188, 190, 191, 192, 193, 194, 197, 198, 200, 201, 202, 206, 207, 208, 209, 210, 213, 216, 217, 218, 219, 222, 223, 224, 226, 229, 231, 233, 236, 237, 240, 241, 243, 244, 245, 246, 247, 248, 249, 250, 251, 252, 253, 256, 257, 258, 259, 260, 261, 262, 263, 264, 265, 266, 268, 269, 271, 273, 274, 275, 276, 277, 278, 279, 280, 282, 283, 284, 286, 288, 290, 291, 292, 294, 297, 298, 299}, {3, 137, 142, 14, 144, 270, 281, 26, 287, 34, 35, 162, 44, 49, 179, 186, 187, 67, 203, 211, 228, 101, 235, 109}, {129, 136, 138, 267, 272, 24, 153, 154, 155, 156, 157, 158, 159, 160, 285, 289, 293, 295, 296, 50, 178, 189, 195, 196, 199, 204, 205, 82, 212, 214, 215, 89, 92, 93, 220, 221, 96, 225, 99, 227, 230, 103, 232, 234, 238, 111, 239, 113, 242, 115, 121, 254, 255}]\n",
            "[0, 1, 3, 4, 6, 8, 9, 10, 11, 12, 14, 16, 17, 18, 19, 20, 21, 22, 23, 25, 26, 27, 28, 29, 30, 31, 32, 34, 35, 36, 37, 38, 39, 40, 41, 42, 43, 44, 45, 46, 47, 48, 49, 51, 52, 53, 54, 55, 56, 57, 58, 59, 60, 61, 62, 63, 64, 65, 66, 67, 68, 71, 72, 73, 74, 75, 76, 77, 78, 79, 80, 81, 83, 84, 85, 86, 87, 88, 90, 91, 94, 95, 97, 98, 100, 101, 102, 104, 105, 106, 108, 109, 110, 112, 114, 116, 117, 118, 119, 120, 122, 123, 124, 125, 126, 127, 128, 130, 131, 132, 133, 134, 135, 137, 139, 140, 141, 143, 144, 145, 147, 148, 149, 150, 151, 152, 161, 162, 163, 164, 165, 166, 167, 168, 169, 172, 173, 174, 175, 177, 179, 181, 182, 183, 184, 185, 186, 187, 188, 190, 191, 192, 193, 197, 198, 200, 201, 202, 203, 206, 207, 208, 209, 210, 211, 213, 216, 217, 218, 219, 222, 223, 224, 226, 228, 229, 231, 233, 235, 236, 237, 240, 241, 243, 246, 247, 248, 249, 250, 251, 252, 256, 257, 258, 259, 260, 261, 262, 263, 264, 265, 266, 269, 270, 271, 273, 274, 275, 276, 277, 278, 279, 280, 281, 282, 283, 284, 286, 287, 288, 290, 291, 292, 294, 298, 299]\n",
            "Core: 15\n",
            "Border: 232\n",
            "Noise: 53\n",
            "Total Classified: 300\n",
            "1\n",
            "[{33, 194, 2, 5, 69, 7, 297, 171, 13, 15, 146, 244, 245, 180, 253}]\n",
            "Centroids generated, assigning border points\n",
            "2\n",
            "[{0, 1, 2, 3, 4, 5, 6, 7, 8, 9, 10, 11, 12, 13, 14, 15, 16, 17, 18, 19, 20, 21, 22, 23, 25, 26, 27, 28, 29, 30, 31, 32, 33, 34, 35, 36, 37, 38, 39, 40, 41, 42, 43, 44, 45, 46, 47, 48, 49, 51, 52, 53, 54, 55, 56, 57, 58, 59, 60, 61, 62, 63, 64, 65, 66, 67, 68, 69, 70, 71, 72, 73, 74, 75, 76, 77, 78, 79, 80, 81, 83, 84, 85, 86, 87, 88, 90, 91, 94, 95, 97, 98, 100, 101, 102, 104, 105, 106, 107, 108, 109, 110, 112, 114, 116, 117, 118, 119, 120, 122, 123, 124, 125, 126, 127, 128, 130, 131, 132, 133, 134, 135, 137, 139, 140, 141, 142, 143, 144, 145, 146, 147, 148, 149, 150, 151, 152, 161, 162, 163, 164, 165, 166, 167, 168, 169, 170, 171, 172, 173, 174, 175, 176, 177, 179, 180, 181, 182, 183, 184, 185, 186, 187, 188, 190, 191, 192, 193, 194, 197, 198, 200, 201, 202, 203, 206, 207, 208, 209, 210, 211, 213, 216, 217, 218, 219, 222, 223, 224, 226, 228, 229, 231, 233, 235, 236, 237, 240, 241, 243, 244, 245, 246, 247, 248, 249, 250, 251, 252, 253, 256, 257, 258, 259, 260, 261, 262, 263, 264, 265, 266, 268, 269, 270, 271, 273, 274, 275, 276, 277, 278, 279, 280, 281, 282, 283, 284, 286, 287, 288, 290, 291, 292, 294, 297, 298, 299}, {129, 136, 138, 267, 272, 24, 153, 154, 155, 156, 157, 158, 159, 160, 285, 289, 293, 295, 296, 50, 178, 189, 195, 196, 199, 204, 205, 82, 212, 214, 215, 89, 92, 93, 220, 221, 96, 225, 99, 227, 230, 103, 232, 234, 238, 111, 239, 113, 242, 115, 121, 254, 255}]\n",
            "[0, 1, 3, 4, 6, 8, 9, 10, 11, 12, 14, 16, 17, 18, 19, 20, 21, 22, 23, 25, 26, 27, 28, 29, 30, 31, 32, 34, 35, 36, 37, 38, 39, 40, 41, 42, 43, 44, 45, 46, 47, 48, 49, 51, 52, 53, 54, 55, 56, 57, 58, 59, 60, 61, 62, 63, 64, 65, 66, 67, 68, 70, 71, 72, 73, 74, 75, 76, 77, 78, 79, 80, 81, 83, 84, 85, 86, 87, 88, 90, 91, 94, 95, 97, 98, 100, 101, 102, 104, 105, 106, 107, 108, 109, 110, 112, 114, 116, 117, 118, 119, 120, 122, 123, 124, 125, 126, 127, 128, 130, 131, 132, 133, 134, 135, 137, 139, 140, 141, 142, 143, 144, 145, 147, 148, 149, 150, 151, 152, 161, 162, 163, 164, 165, 166, 167, 168, 169, 170, 172, 173, 174, 175, 176, 177, 179, 181, 182, 183, 184, 185, 186, 187, 188, 190, 191, 192, 193, 197, 198, 200, 201, 202, 203, 206, 207, 208, 209, 210, 211, 213, 216, 217, 218, 219, 222, 223, 224, 226, 228, 229, 231, 233, 235, 236, 237, 240, 241, 243, 246, 247, 248, 249, 250, 251, 252, 256, 257, 258, 259, 260, 261, 262, 263, 264, 265, 266, 268, 269, 270, 271, 273, 274, 275, 276, 277, 278, 279, 280, 281, 282, 283, 284, 286, 287, 288, 290, 291, 292, 294, 298, 299]\n",
            "Core: 10\n",
            "Border: 237\n",
            "Noise: 53\n",
            "Total Classified: 300\n",
            "2\n",
            "[{33, 194, 2, 5, 297, 146, 244, 245, 253}, {69}]\n",
            "Centroids generated, assigning border points\n",
            "3\n",
            "[{0, 2, 3, 5, 8, 9, 13, 14, 15, 17, 18, 21, 23, 29, 30, 31, 32, 33, 34, 35, 36, 41, 42, 43, 45, 47, 48, 49, 51, 53, 54, 56, 57, 59, 61, 63, 64, 65, 67, 68, 70, 71, 72, 74, 76, 78, 79, 80, 81, 85, 86, 87, 91, 97, 98, 100, 101, 106, 107, 108, 109, 112, 117, 118, 124, 125, 131, 132, 133, 134, 135, 139, 143, 144, 145, 146, 147, 150, 151, 162, 163, 165, 168, 170, 171, 172, 174, 176, 177, 179, 180, 181, 183, 184, 185, 186, 188, 190, 194, 198, 203, 206, 207, 209, 211, 213, 216, 218, 219, 226, 228, 229, 231, 233, 240, 241, 243, 244, 245, 246, 247, 249, 250, 251, 253, 256, 257, 258, 261, 263, 264, 265, 266, 268, 270, 271, 273, 274, 277, 278, 279, 281, 283, 284, 286, 287, 290, 291, 297, 298, 299}, {1, 4, 6, 7, 10, 11, 12, 16, 19, 20, 22, 25, 26, 27, 28, 37, 38, 39, 40, 44, 46, 52, 55, 58, 60, 62, 66, 69, 73, 75, 77, 83, 84, 88, 90, 94, 95, 102, 104, 105, 110, 114, 116, 119, 120, 122, 123, 126, 127, 128, 130, 137, 140, 141, 142, 148, 149, 152, 161, 164, 166, 167, 169, 173, 175, 182, 187, 191, 192, 193, 197, 200, 201, 202, 208, 210, 217, 222, 223, 224, 235, 236, 237, 248, 252, 259, 260, 262, 269, 275, 276, 280, 282, 288, 292, 294}, {129, 136, 138, 267, 272, 24, 153, 154, 155, 156, 157, 158, 159, 160, 285, 289, 293, 295, 296, 50, 178, 189, 195, 196, 199, 204, 205, 82, 212, 214, 215, 89, 92, 93, 220, 221, 96, 225, 99, 227, 230, 103, 232, 234, 238, 111, 239, 113, 242, 115, 121, 254, 255}]\n",
            "[0, 1, 3, 4, 6, 7, 8, 9, 10, 11, 12, 13, 14, 15, 16, 17, 18, 19, 20, 21, 22, 23, 25, 26, 27, 28, 29, 30, 31, 32, 34, 35, 36, 37, 38, 39, 40, 41, 42, 43, 44, 45, 46, 47, 48, 49, 51, 52, 53, 54, 55, 56, 57, 58, 59, 60, 61, 62, 63, 64, 65, 66, 67, 68, 70, 71, 72, 73, 74, 75, 76, 77, 78, 79, 80, 81, 83, 84, 85, 86, 87, 88, 90, 91, 94, 95, 97, 98, 100, 101, 102, 104, 105, 106, 107, 108, 109, 110, 112, 114, 116, 117, 118, 119, 120, 122, 123, 124, 125, 126, 127, 128, 130, 131, 132, 133, 134, 135, 137, 139, 140, 141, 142, 143, 144, 145, 147, 148, 149, 150, 151, 152, 161, 162, 163, 164, 165, 166, 167, 168, 169, 170, 171, 172, 173, 174, 175, 176, 177, 179, 180, 181, 182, 183, 184, 185, 186, 187, 188, 190, 191, 192, 193, 197, 198, 200, 201, 202, 203, 206, 207, 208, 209, 210, 211, 213, 216, 217, 218, 219, 222, 223, 224, 226, 228, 229, 231, 233, 235, 236, 237, 240, 241, 243, 246, 247, 248, 249, 250, 251, 252, 256, 257, 258, 259, 260, 261, 262, 263, 264, 265, 266, 268, 269, 270, 271, 273, 274, 275, 276, 277, 278, 279, 280, 281, 282, 283, 284, 286, 287, 288, 290, 291, 292, 294, 298, 299]\n",
            "Core: 8\n",
            "Border: 239\n",
            "Noise: 53\n",
            "Total Classified: 300\n",
            "2\n",
            "[{33, 2, 5, 146, 244, 245, 253}, {69}]\n",
            "Centroids generated, assigning border points\n",
            "3\n",
            "[{0, 2, 3, 5, 8, 9, 13, 14, 15, 17, 18, 21, 23, 29, 30, 31, 32, 33, 34, 35, 36, 41, 42, 43, 45, 47, 48, 49, 51, 53, 54, 56, 57, 59, 61, 63, 64, 65, 67, 68, 70, 71, 72, 74, 76, 78, 79, 80, 81, 85, 86, 87, 91, 97, 98, 100, 101, 106, 107, 109, 112, 117, 118, 124, 125, 127, 131, 132, 133, 134, 135, 139, 143, 144, 145, 146, 147, 150, 151, 162, 163, 165, 168, 170, 171, 172, 174, 176, 177, 179, 180, 181, 183, 184, 185, 186, 188, 190, 193, 194, 198, 203, 206, 207, 209, 211, 213, 216, 218, 219, 224, 226, 228, 229, 231, 233, 240, 241, 243, 244, 245, 246, 247, 249, 250, 251, 253, 256, 257, 258, 261, 263, 264, 265, 266, 268, 270, 271, 273, 274, 277, 278, 279, 281, 283, 284, 286, 287, 290, 291, 297, 298, 299}, {1, 4, 6, 7, 10, 11, 12, 16, 19, 20, 22, 25, 26, 27, 28, 37, 38, 39, 40, 44, 46, 52, 55, 58, 60, 62, 66, 69, 73, 75, 77, 83, 84, 88, 90, 94, 95, 102, 104, 105, 108, 110, 114, 116, 119, 120, 122, 123, 126, 128, 130, 137, 140, 141, 142, 148, 149, 152, 161, 164, 166, 167, 169, 173, 175, 182, 187, 191, 192, 197, 200, 201, 202, 208, 210, 217, 222, 223, 235, 236, 237, 248, 252, 259, 260, 262, 269, 275, 276, 280, 282, 288, 292, 294}, {129, 136, 138, 267, 272, 24, 153, 154, 155, 156, 157, 158, 159, 160, 285, 289, 293, 295, 296, 50, 178, 189, 195, 196, 199, 204, 205, 82, 212, 214, 215, 89, 92, 93, 220, 221, 96, 225, 99, 227, 230, 103, 232, 234, 238, 111, 239, 113, 242, 115, 121, 254, 255}]\n",
            "[0, 1, 3, 4, 6, 7, 8, 9, 10, 11, 12, 13, 14, 15, 16, 17, 18, 19, 20, 21, 22, 23, 25, 26, 27, 28, 29, 30, 31, 32, 34, 35, 36, 37, 38, 39, 40, 41, 42, 43, 44, 45, 46, 47, 48, 49, 51, 52, 53, 54, 55, 56, 57, 58, 59, 60, 61, 62, 63, 64, 65, 66, 67, 68, 70, 71, 72, 73, 74, 75, 76, 77, 78, 79, 80, 81, 83, 84, 85, 86, 87, 88, 90, 91, 94, 95, 97, 98, 100, 101, 102, 104, 105, 106, 107, 108, 109, 110, 112, 114, 116, 117, 118, 119, 120, 122, 123, 124, 125, 126, 127, 128, 130, 131, 132, 133, 134, 135, 137, 139, 140, 141, 142, 143, 144, 145, 147, 148, 149, 150, 151, 152, 161, 162, 163, 164, 165, 166, 167, 168, 169, 170, 171, 172, 173, 174, 175, 176, 177, 179, 180, 181, 182, 183, 184, 185, 186, 187, 188, 190, 191, 192, 193, 194, 197, 198, 200, 201, 202, 203, 206, 207, 208, 209, 210, 211, 213, 216, 217, 218, 219, 222, 223, 224, 226, 228, 229, 231, 233, 235, 236, 237, 240, 241, 243, 246, 247, 248, 249, 250, 251, 252, 256, 257, 258, 259, 260, 261, 262, 263, 264, 265, 266, 268, 269, 270, 271, 273, 274, 275, 276, 277, 278, 279, 280, 281, 282, 283, 284, 286, 287, 288, 290, 291, 292, 294, 297, 298, 299]\n"
          ],
          "name": "stdout"
        },
        {
          "output_type": "execute_result",
          "data": {
            "text/plain": [
              "[0.006301458355133793,\n",
              " 0.006232471360018879,\n",
              " 0.008574254614219868,\n",
              " 0.008455150270652554,\n",
              " 0.009356315975071068,\n",
              " 0.007041811458063236,\n",
              " 0.007128793221116364,\n",
              " 0.004624286868803471,\n",
              " 0.005897884027573205,\n",
              " 0.005863094874132665]"
            ]
          },
          "metadata": {
            "tags": []
          },
          "execution_count": 35
        }
      ]
    },
    {
      "cell_type": "code",
      "metadata": {
        "colab": {
          "base_uri": "https://localhost:8080/"
        },
        "id": "fRWPjTIKooqk",
        "outputId": "0c76a20d-99c7-4c0f-8785-cc6fc6381f3d"
      },
      "source": [
        "DBScan(centroids, 0.65, 6, metric='cosine')"
      ],
      "execution_count": null,
      "outputs": [
        {
          "output_type": "stream",
          "text": [
            "Core: 122\n",
            "Border: 125\n",
            "Noise: 53\n",
            "Total Classified: 300\n",
            "5\n",
            "[{0, 1, 2, 5, 7, 8, 9, 12, 13, 15, 18, 21, 29, 31, 33, 36, 37, 39, 40, 43, 45, 47, 51, 52, 56, 57, 59, 61, 62, 69, 70, 71, 72, 75, 80, 88, 90, 91, 98, 104, 107, 117, 124, 128, 131, 132, 135, 139, 141, 146, 148, 163, 164, 170, 171, 173, 174, 175, 176, 177, 180, 181, 194, 201, 202, 206, 210, 213, 216, 218, 240, 241, 244, 245, 246, 247, 249, 251, 253, 256, 258, 260, 264, 265, 268, 271, 273, 279, 283, 286, 297}, {162, 34, 3, 228, 101, 35, 203, 235, 109, 142, 44, 144, 49, 14, 211, 270, 281, 26, 187, 287}, {161, 11, 81, 151, 127}, {32, 150, 23, 219, 190}, {257}]\n",
            "Centroids generated, assigning border points\n",
            "6\n",
            "[{0, 1, 2, 4, 5, 6, 7, 8, 9, 10, 12, 13, 15, 16, 17, 18, 19, 20, 21, 22, 25, 27, 28, 29, 30, 31, 33, 36, 37, 39, 40, 41, 42, 43, 45, 46, 47, 51, 52, 53, 55, 56, 57, 58, 59, 60, 61, 62, 63, 65, 66, 68, 69, 70, 71, 72, 75, 76, 77, 79, 80, 83, 84, 86, 87, 88, 90, 91, 94, 95, 97, 98, 100, 102, 104, 105, 106, 107, 108, 110, 112, 116, 117, 119, 120, 122, 124, 125, 126, 128, 130, 131, 132, 133, 134, 135, 139, 140, 141, 143, 145, 146, 148, 149, 152, 163, 164, 165, 166, 168, 169, 170, 171, 173, 174, 175, 176, 177, 180, 181, 182, 183, 184, 185, 188, 191, 192, 194, 197, 198, 201, 202, 206, 208, 209, 210, 213, 216, 217, 218, 222, 223, 224, 226, 229, 231, 233, 236, 237, 240, 241, 243, 244, 245, 246, 247, 248, 249, 250, 251, 252, 253, 256, 258, 259, 260, 262, 264, 265, 266, 268, 269, 271, 273, 275, 276, 277, 278, 279, 282, 283, 284, 286, 288, 291, 294, 297, 298, 299}, {3, 137, 142, 14, 144, 270, 281, 26, 287, 162, 34, 35, 44, 49, 179, 186, 187, 67, 203, 211, 228, 101, 235, 109}, {64, 161, 290, 261, 73, 11, 172, 48, 81, 274, 85, 151, 280, 127}, {32, 263, 78, 207, 147, 150, 23, 118, 219, 190}, {257, 193, 292, 38, 167, 200, 74, 114, 54, 123}, {129, 136, 138, 267, 272, 24, 153, 154, 155, 156, 157, 158, 159, 160, 285, 289, 293, 295, 296, 50, 178, 189, 195, 196, 199, 204, 205, 82, 212, 214, 215, 89, 92, 93, 220, 221, 96, 225, 99, 227, 230, 103, 232, 234, 238, 111, 239, 113, 242, 115, 121, 254, 255}]\n",
            "[4, 6, 10, 16, 17, 19, 20, 22, 25, 27, 28, 30, 38, 41, 42, 46, 48, 53, 54, 55, 58, 60, 63, 64, 65, 66, 67, 68, 73, 74, 76, 77, 78, 79, 83, 84, 85, 86, 87, 94, 95, 97, 100, 102, 105, 106, 108, 110, 112, 114, 116, 118, 119, 120, 122, 123, 125, 126, 130, 133, 134, 137, 140, 143, 145, 147, 149, 152, 165, 166, 167, 168, 169, 172, 179, 182, 183, 184, 185, 186, 188, 191, 192, 193, 197, 198, 200, 207, 208, 209, 217, 222, 223, 224, 226, 229, 231, 233, 236, 237, 243, 248, 250, 252, 259, 261, 262, 263, 266, 269, 274, 275, 276, 277, 278, 280, 282, 284, 288, 290, 291, 292, 294, 298, 299]\n"
          ],
          "name": "stdout"
        },
        {
          "output_type": "execute_result",
          "data": {
            "text/plain": [
              "[{0,\n",
              "  1,\n",
              "  2,\n",
              "  4,\n",
              "  5,\n",
              "  6,\n",
              "  7,\n",
              "  8,\n",
              "  9,\n",
              "  10,\n",
              "  12,\n",
              "  13,\n",
              "  15,\n",
              "  16,\n",
              "  17,\n",
              "  18,\n",
              "  19,\n",
              "  20,\n",
              "  21,\n",
              "  22,\n",
              "  25,\n",
              "  27,\n",
              "  28,\n",
              "  29,\n",
              "  30,\n",
              "  31,\n",
              "  33,\n",
              "  36,\n",
              "  37,\n",
              "  39,\n",
              "  40,\n",
              "  41,\n",
              "  42,\n",
              "  43,\n",
              "  45,\n",
              "  46,\n",
              "  47,\n",
              "  51,\n",
              "  52,\n",
              "  53,\n",
              "  55,\n",
              "  56,\n",
              "  57,\n",
              "  58,\n",
              "  59,\n",
              "  60,\n",
              "  61,\n",
              "  62,\n",
              "  63,\n",
              "  65,\n",
              "  66,\n",
              "  68,\n",
              "  69,\n",
              "  70,\n",
              "  71,\n",
              "  72,\n",
              "  75,\n",
              "  76,\n",
              "  77,\n",
              "  79,\n",
              "  80,\n",
              "  83,\n",
              "  84,\n",
              "  86,\n",
              "  87,\n",
              "  88,\n",
              "  90,\n",
              "  91,\n",
              "  94,\n",
              "  95,\n",
              "  97,\n",
              "  98,\n",
              "  100,\n",
              "  102,\n",
              "  104,\n",
              "  105,\n",
              "  106,\n",
              "  107,\n",
              "  108,\n",
              "  110,\n",
              "  112,\n",
              "  116,\n",
              "  117,\n",
              "  119,\n",
              "  120,\n",
              "  122,\n",
              "  124,\n",
              "  125,\n",
              "  126,\n",
              "  128,\n",
              "  130,\n",
              "  131,\n",
              "  132,\n",
              "  133,\n",
              "  134,\n",
              "  135,\n",
              "  139,\n",
              "  140,\n",
              "  141,\n",
              "  143,\n",
              "  145,\n",
              "  146,\n",
              "  148,\n",
              "  149,\n",
              "  152,\n",
              "  163,\n",
              "  164,\n",
              "  165,\n",
              "  166,\n",
              "  168,\n",
              "  169,\n",
              "  170,\n",
              "  171,\n",
              "  173,\n",
              "  174,\n",
              "  175,\n",
              "  176,\n",
              "  177,\n",
              "  180,\n",
              "  181,\n",
              "  182,\n",
              "  183,\n",
              "  184,\n",
              "  185,\n",
              "  188,\n",
              "  191,\n",
              "  192,\n",
              "  194,\n",
              "  197,\n",
              "  198,\n",
              "  201,\n",
              "  202,\n",
              "  206,\n",
              "  208,\n",
              "  209,\n",
              "  210,\n",
              "  213,\n",
              "  216,\n",
              "  217,\n",
              "  218,\n",
              "  222,\n",
              "  223,\n",
              "  224,\n",
              "  226,\n",
              "  229,\n",
              "  231,\n",
              "  233,\n",
              "  236,\n",
              "  237,\n",
              "  240,\n",
              "  241,\n",
              "  243,\n",
              "  244,\n",
              "  245,\n",
              "  246,\n",
              "  247,\n",
              "  248,\n",
              "  249,\n",
              "  250,\n",
              "  251,\n",
              "  252,\n",
              "  253,\n",
              "  256,\n",
              "  258,\n",
              "  259,\n",
              "  260,\n",
              "  262,\n",
              "  264,\n",
              "  265,\n",
              "  266,\n",
              "  268,\n",
              "  269,\n",
              "  271,\n",
              "  273,\n",
              "  275,\n",
              "  276,\n",
              "  277,\n",
              "  278,\n",
              "  279,\n",
              "  282,\n",
              "  283,\n",
              "  284,\n",
              "  286,\n",
              "  288,\n",
              "  291,\n",
              "  294,\n",
              "  297,\n",
              "  298,\n",
              "  299},\n",
              " {3,\n",
              "  14,\n",
              "  26,\n",
              "  34,\n",
              "  35,\n",
              "  44,\n",
              "  49,\n",
              "  67,\n",
              "  101,\n",
              "  109,\n",
              "  137,\n",
              "  142,\n",
              "  144,\n",
              "  162,\n",
              "  179,\n",
              "  186,\n",
              "  187,\n",
              "  203,\n",
              "  211,\n",
              "  228,\n",
              "  235,\n",
              "  270,\n",
              "  281,\n",
              "  287},\n",
              " {11, 48, 64, 73, 81, 85, 127, 151, 161, 172, 261, 274, 280, 290},\n",
              " {23, 32, 78, 118, 147, 150, 190, 207, 219, 263},\n",
              " {38, 54, 74, 114, 123, 167, 193, 200, 257, 292},\n",
              " {24,\n",
              "  50,\n",
              "  82,\n",
              "  89,\n",
              "  92,\n",
              "  93,\n",
              "  96,\n",
              "  99,\n",
              "  103,\n",
              "  111,\n",
              "  113,\n",
              "  115,\n",
              "  121,\n",
              "  129,\n",
              "  136,\n",
              "  138,\n",
              "  153,\n",
              "  154,\n",
              "  155,\n",
              "  156,\n",
              "  157,\n",
              "  158,\n",
              "  159,\n",
              "  160,\n",
              "  178,\n",
              "  189,\n",
              "  195,\n",
              "  196,\n",
              "  199,\n",
              "  204,\n",
              "  205,\n",
              "  212,\n",
              "  214,\n",
              "  215,\n",
              "  220,\n",
              "  221,\n",
              "  225,\n",
              "  227,\n",
              "  230,\n",
              "  232,\n",
              "  234,\n",
              "  238,\n",
              "  239,\n",
              "  242,\n",
              "  254,\n",
              "  255,\n",
              "  267,\n",
              "  272,\n",
              "  285,\n",
              "  289,\n",
              "  293,\n",
              "  295,\n",
              "  296}]"
            ]
          },
          "metadata": {
            "tags": []
          },
          "execution_count": 42
        }
      ]
    },
    {
      "cell_type": "code",
      "metadata": {
        "colab": {
          "base_uri": "https://localhost:8080/",
          "height": 278
        },
        "id": "PaI6g0nUdmBb",
        "outputId": "8b6207be-9dc1-46ed-e749-e4fdb6116911"
      },
      "source": [
        "plt.plot(mp, scores)\n",
        "plt.ylabel('Silhouette Score')\n",
        "plt.xlabel('Minpts')\n",
        "plt.show()"
      ],
      "execution_count": null,
      "outputs": [
        {
          "output_type": "display_data",
          "data": {
            "image/png": "[encoded data removed]",
            "text/plain": [
              "<Figure size 432x288 with 1 Axes>"
            ]
          },
          "metadata": {
            "tags": [],
            "needs_background": "light"
          }
        }
      ]
    },
    {
      "cell_type": "code",
      "metadata": {
        "id": "Fmu2WJidxSrh",
        "colab": {
          "base_uri": "https://localhost:8080/"
        },
        "outputId": "731a9c03-cac3-4a50-fb68-92f5a7b86109"
      },
      "source": [
        "n_preds = assignFinalClusters(clus_cos, preds)\n",
        "print(len(n_preds))\n",
        "print(len(preds))"
      ],
      "execution_count": null,
      "outputs": [
        {
          "output_type": "stream",
          "text": [
            "8580\n",
            "8580\n"
          ],
          "name": "stdout"
        }
      ]
    },
    {
      "cell_type": "code",
      "metadata": {
        "id": "iiN4MK6BCbMC"
      },
      "source": [
        "with open('submission.dat', 'w') as f:\n",
        "  for l in n_preds:\n",
        "    f.write(str(l))\n",
        "    f.write('\\n')\n",
        "  f.close()"
      ],
      "execution_count": null,
      "outputs": []
    }
  ]
}